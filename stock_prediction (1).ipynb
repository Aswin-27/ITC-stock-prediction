{
 "cells": [
  {
   "cell_type": "code",
   "execution_count": 54,
   "id": "0cd44671-470e-400f-9eca-ec099813eb9f",
   "metadata": {},
   "outputs": [
    {
     "name": "stderr",
     "output_type": "stream",
     "text": [
      "Intel(R) Extension for Scikit-learn* enabled (https://github.com/intel/scikit-learn-intelex)\n"
     ]
    }
   ],
   "source": [
    "from sklearnex import patch_sklearn\n",
    "patch_sklearn()"
   ]
  },
  {
   "cell_type": "code",
   "execution_count": 55,
   "id": "09606303-a3f1-4c69-a37e-3cbdc8749a79",
   "metadata": {},
   "outputs": [],
   "source": [
    "import os\n",
    "import numpy as np\n",
    "import pandas as pd\n",
    "import matplotlib.pyplot as plt\n",
    "%matplotlib inline"
   ]
  },
  {
   "cell_type": "code",
   "execution_count": 56,
   "id": "bb635089-7fcb-4539-8fa3-1dc442d71cf7",
   "metadata": {},
   "outputs": [
    {
     "data": {
      "text/html": [
       "<div>\n",
       "<style scoped>\n",
       "    .dataframe tbody tr th:only-of-type {\n",
       "        vertical-align: middle;\n",
       "    }\n",
       "\n",
       "    .dataframe tbody tr th {\n",
       "        vertical-align: top;\n",
       "    }\n",
       "\n",
       "    .dataframe thead th {\n",
       "        text-align: right;\n",
       "    }\n",
       "</style>\n",
       "<table border=\"1\" class=\"dataframe\">\n",
       "  <thead>\n",
       "    <tr style=\"text-align: right;\">\n",
       "      <th></th>\n",
       "      <th>Date</th>\n",
       "      <th>Open</th>\n",
       "      <th>High</th>\n",
       "      <th>Low</th>\n",
       "      <th>Close</th>\n",
       "      <th>Volume</th>\n",
       "    </tr>\n",
       "  </thead>\n",
       "  <tbody>\n",
       "    <tr>\n",
       "      <th>0</th>\n",
       "      <td>1/3/2012</td>\n",
       "      <td>325.25</td>\n",
       "      <td>332.83</td>\n",
       "      <td>324.97</td>\n",
       "      <td>663.59</td>\n",
       "      <td>7,380,500</td>\n",
       "    </tr>\n",
       "    <tr>\n",
       "      <th>1</th>\n",
       "      <td>1/4/2012</td>\n",
       "      <td>331.27</td>\n",
       "      <td>333.87</td>\n",
       "      <td>329.08</td>\n",
       "      <td>666.45</td>\n",
       "      <td>5,749,400</td>\n",
       "    </tr>\n",
       "    <tr>\n",
       "      <th>2</th>\n",
       "      <td>1/5/2012</td>\n",
       "      <td>329.83</td>\n",
       "      <td>330.75</td>\n",
       "      <td>326.89</td>\n",
       "      <td>657.21</td>\n",
       "      <td>6,590,300</td>\n",
       "    </tr>\n",
       "    <tr>\n",
       "      <th>3</th>\n",
       "      <td>1/6/2012</td>\n",
       "      <td>328.34</td>\n",
       "      <td>328.77</td>\n",
       "      <td>323.68</td>\n",
       "      <td>648.24</td>\n",
       "      <td>5,405,900</td>\n",
       "    </tr>\n",
       "    <tr>\n",
       "      <th>4</th>\n",
       "      <td>1/9/2012</td>\n",
       "      <td>322.04</td>\n",
       "      <td>322.29</td>\n",
       "      <td>309.46</td>\n",
       "      <td>620.76</td>\n",
       "      <td>11,688,800</td>\n",
       "    </tr>\n",
       "  </tbody>\n",
       "</table>\n",
       "</div>"
      ],
      "text/plain": [
       "       Date    Open    High     Low   Close      Volume\n",
       "0  1/3/2012  325.25  332.83  324.97  663.59   7,380,500\n",
       "1  1/4/2012  331.27  333.87  329.08  666.45   5,749,400\n",
       "2  1/5/2012  329.83  330.75  326.89  657.21   6,590,300\n",
       "3  1/6/2012  328.34  328.77  323.68  648.24   5,405,900\n",
       "4  1/9/2012  322.04  322.29  309.46  620.76  11,688,800"
      ]
     },
     "execution_count": 56,
     "metadata": {},
     "output_type": "execute_result"
    }
   ],
   "source": [
    "dataset_train=pd.read_csv(\"Google_Stock_Price_Train.csv\")\n",
    "dataset_train.head()"
   ]
  },
  {
   "cell_type": "code",
   "execution_count": 57,
   "id": "98ae2fff-e765-408c-a802-de67c9a4d74f",
   "metadata": {},
   "outputs": [
    {
     "name": "stdout",
     "output_type": "stream",
     "text": [
      "[[325.25]\n",
      " [331.27]\n",
      " [329.83]\n",
      " ...\n",
      " [793.7 ]\n",
      " [783.33]\n",
      " [782.75]]\n",
      "(1258, 1)\n"
     ]
    }
   ],
   "source": [
    "training_set=dataset_train.iloc[:,1:2].values\n",
    "print(training_set)\n",
    "print(training_set.shape)"
   ]
  },
  {
   "cell_type": "code",
   "execution_count": null,
   "id": "4f11527e-55a5-4fad-9493-8548d1e769c9",
   "metadata": {},
   "outputs": [],
   "source": []
  },
  {
   "cell_type": "code",
   "execution_count": 58,
   "id": "51fde87f-2a36-4885-a235-f4a41aee9553",
   "metadata": {},
   "outputs": [
    {
     "data": {
      "text/plain": [
       "array([[0.08581368],\n",
       "       [0.09701243],\n",
       "       [0.09433366],\n",
       "       ...,\n",
       "       [0.95725128],\n",
       "       [0.93796041],\n",
       "       [0.93688146]])"
      ]
     },
     "execution_count": 58,
     "metadata": {},
     "output_type": "execute_result"
    }
   ],
   "source": [
    "from sklearn.preprocessing import MinMaxScaler\n",
    "scaler=MinMaxScaler(feature_range=(0,1))\n",
    "scaled_training_set=scaler.fit_transform(training_set)\n",
    "scaled_training_set"
   ]
  },
  {
   "cell_type": "code",
   "execution_count": 59,
   "id": "27286bc6-49f6-4b68-8533-a41bdb074f33",
   "metadata": {},
   "outputs": [
    {
     "name": "stdout",
     "output_type": "stream",
     "text": [
      "(1198, 60)\n",
      "(1198,)\n"
     ]
    }
   ],
   "source": [
    "x_train=[]\n",
    "y_train=[]\n",
    "for i in range(60,1258):\n",
    "    x_train.append(scaled_training_set[i-60:i,0])\n",
    "    y_train.append(scaled_training_set[i,0])\n",
    "x_train=np.array(x_train)\n",
    "y_train=np.array(y_train)\n",
    "print(x_train.shape)\n",
    "print(y_train.shape)"
   ]
  },
  {
   "cell_type": "code",
   "execution_count": 60,
   "id": "3a7f60ae-ef0e-4b8d-bbc2-1adc8b7a32be",
   "metadata": {},
   "outputs": [
    {
     "data": {
      "text/plain": [
       "(1198, 60, 1)"
      ]
     },
     "execution_count": 60,
     "metadata": {},
     "output_type": "execute_result"
    }
   ],
   "source": [
    "x_train=np.reshape(x_train,(x_train.shape[0],x_train.shape[1],1))\n",
    "x_train.shape"
   ]
  },
  {
   "cell_type": "code",
   "execution_count": 61,
   "id": "9919d2aa-72af-4216-868a-bc0e6ba94af0",
   "metadata": {},
   "outputs": [],
   "source": [
    "from tensorflow.keras.models import Sequential\n",
    "from tensorflow.keras.layers import LSTM\n",
    "from tensorflow.keras.layers import Dense\n",
    "from tensorflow.keras.layers import Dropout"
   ]
  },
  {
   "cell_type": "code",
   "execution_count": 62,
   "id": "a6b2b4f6-48db-48a8-b174-6fd0e80a3be2",
   "metadata": {},
   "outputs": [],
   "source": [
    "regressor = Sequential()\n",
    "\n",
    "regressor.add(LSTM(units = 50, return_sequences= True, input_shape = (x_train.shape[1], 1))) \n",
    "regressor.add(Dropout (0.2))\n",
    "\n",
    "regressor.add(LSTM(units = 50, return_sequences= True)) \n",
    "regressor.add(Dropout (0.2))\n",
    "\n",
    "regressor.add(LSTM(units = 50, return_sequences= True))\n",
    "regressor.add(Dropout (0.2))\n",
    "\n",
    "regressor.add(LSTM(units = 50))\n",
    "regressor.add(Dropout (0.2))\n",
    "\n",
    "regressor.add(Dense (units=1))"
   ]
  },
  {
   "cell_type": "code",
   "execution_count": null,
   "id": "b39e4dc3-1a0d-46b5-8de7-44edd2e72e73",
   "metadata": {
    "tags": []
   },
   "outputs": [
    {
     "name": "stdout",
     "output_type": "stream",
     "text": [
      "Epoch 1/100\n",
      "38/38 [==============================] - 10s 146ms/step - loss: 0.0395\n",
      "Epoch 2/100\n",
      "38/38 [==============================] - 6s 145ms/step - loss: 0.0065\n",
      "Epoch 3/100\n",
      "38/38 [==============================] - 6s 146ms/step - loss: 0.0054\n",
      "Epoch 4/100\n",
      "38/38 [==============================] - 6s 145ms/step - loss: 0.0048\n",
      "Epoch 5/100\n",
      "38/38 [==============================] - 5s 142ms/step - loss: 0.0047\n",
      "Epoch 6/100\n",
      "38/38 [==============================] - 5s 144ms/step - loss: 0.0055\n",
      "Epoch 7/100\n",
      "38/38 [==============================] - 6s 145ms/step - loss: 0.0048\n",
      "Epoch 8/100\n",
      "38/38 [==============================] - 6s 146ms/step - loss: 0.0048\n",
      "Epoch 9/100\n",
      "38/38 [==============================] - 6s 146ms/step - loss: 0.0042\n",
      "Epoch 10/100\n",
      "38/38 [==============================] - 6s 146ms/step - loss: 0.0041\n",
      "Epoch 11/100\n",
      "38/38 [==============================] - 6s 145ms/step - loss: 0.0044\n",
      "Epoch 12/100\n",
      "38/38 [==============================] - 6s 145ms/step - loss: 0.0043\n",
      "Epoch 13/100\n",
      "38/38 [==============================] - 6s 146ms/step - loss: 0.0039\n",
      "Epoch 14/100\n",
      "38/38 [==============================] - 6s 145ms/step - loss: 0.0040\n",
      "Epoch 15/100\n",
      "38/38 [==============================] - 6s 145ms/step - loss: 0.0038\n",
      "Epoch 16/100\n",
      "38/38 [==============================] - 5s 142ms/step - loss: 0.0040\n",
      "Epoch 17/100\n",
      "38/38 [==============================] - 5s 142ms/step - loss: 0.0035\n",
      "Epoch 18/100\n",
      "38/38 [==============================] - 5s 142ms/step - loss: 0.0035\n",
      "Epoch 19/100\n",
      "38/38 [==============================] - 6s 145ms/step - loss: 0.0040\n",
      "Epoch 20/100\n",
      "38/38 [==============================] - 6s 145ms/step - loss: 0.0033\n",
      "Epoch 21/100\n",
      "38/38 [==============================] - 6s 146ms/step - loss: 0.0039\n",
      "Epoch 22/100\n",
      "38/38 [==============================] - 6s 145ms/step - loss: 0.0037\n",
      "Epoch 23/100\n",
      "38/38 [==============================] - 6s 146ms/step - loss: 0.0034\n",
      "Epoch 24/100\n",
      "38/38 [==============================] - 6s 146ms/step - loss: 0.0031\n",
      "Epoch 25/100\n",
      "38/38 [==============================] - 6s 146ms/step - loss: 0.0031\n",
      "Epoch 26/100\n",
      "38/38 [==============================] - 6s 146ms/step - loss: 0.0032\n",
      "Epoch 27/100\n",
      "38/38 [==============================] - 5s 142ms/step - loss: 0.0029\n",
      "Epoch 28/100\n",
      "38/38 [==============================] - 5s 144ms/step - loss: 0.0032\n",
      "Epoch 29/100\n",
      "38/38 [==============================] - 6s 145ms/step - loss: 0.0030\n",
      "Epoch 30/100\n",
      "38/38 [==============================] - 6s 145ms/step - loss: 0.0033\n",
      "Epoch 31/100\n",
      "38/38 [==============================] - 6s 145ms/step - loss: 0.0030\n",
      "Epoch 32/100\n",
      "38/38 [==============================] - 6s 145ms/step - loss: 0.0031\n",
      "Epoch 33/100\n",
      "38/38 [==============================] - 6s 146ms/step - loss: 0.0027\n",
      "Epoch 34/100\n",
      "38/38 [==============================] - 5s 145ms/step - loss: 0.0027\n",
      "Epoch 35/100\n",
      "38/38 [==============================] - 6s 146ms/step - loss: 0.0030\n",
      "Epoch 36/100\n",
      "38/38 [==============================] - 6s 146ms/step - loss: 0.0031\n",
      "Epoch 37/100\n",
      "38/38 [==============================] - 6s 146ms/step - loss: 0.0028\n",
      "Epoch 38/100\n",
      "38/38 [==============================] - 5s 143ms/step - loss: 0.0027\n",
      "Epoch 39/100\n",
      "38/38 [==============================] - 5s 143ms/step - loss: 0.0027\n",
      "Epoch 40/100\n",
      "38/38 [==============================] - 5s 142ms/step - loss: 0.0028\n",
      "Epoch 41/100\n",
      "38/38 [==============================] - 6s 146ms/step - loss: 0.0028\n",
      "Epoch 42/100\n",
      "38/38 [==============================] - 6s 146ms/step - loss: 0.0024\n",
      "Epoch 43/100\n",
      "38/38 [==============================] - 6s 146ms/step - loss: 0.0024\n",
      "Epoch 44/100\n",
      "38/38 [==============================] - 6s 147ms/step - loss: 0.0026\n",
      "Epoch 45/100\n",
      "38/38 [==============================] - 6s 146ms/step - loss: 0.0027\n",
      "Epoch 46/100\n",
      "38/38 [==============================] - 6s 146ms/step - loss: 0.0023\n",
      "Epoch 47/100\n",
      "38/38 [==============================] - 6s 146ms/step - loss: 0.0026\n",
      "Epoch 48/100\n",
      "38/38 [==============================] - 6s 145ms/step - loss: 0.0026\n",
      "Epoch 49/100\n",
      "38/38 [==============================] - 5s 143ms/step - loss: 0.0022\n",
      "Epoch 50/100\n",
      "38/38 [==============================] - 5s 143ms/step - loss: 0.0022\n",
      "Epoch 51/100\n",
      "38/38 [==============================] - 5s 145ms/step - loss: 0.0025\n",
      "Epoch 52/100\n",
      "38/38 [==============================] - 6s 146ms/step - loss: 0.0021\n",
      "Epoch 53/100\n",
      "38/38 [==============================] - 6s 145ms/step - loss: 0.0020\n",
      "Epoch 54/100\n",
      "38/38 [==============================] - 5s 145ms/step - loss: 0.0025\n",
      "Epoch 55/100\n",
      "38/38 [==============================] - 6s 145ms/step - loss: 0.0022\n",
      "Epoch 56/100\n",
      "38/38 [==============================] - 6s 145ms/step - loss: 0.0022\n",
      "Epoch 57/100\n",
      "38/38 [==============================] - 6s 145ms/step - loss: 0.0021\n",
      "Epoch 58/100\n",
      "38/38 [==============================] - 6s 145ms/step - loss: 0.0020\n",
      "Epoch 59/100\n",
      "38/38 [==============================] - 6s 146ms/step - loss: 0.0023\n",
      "Epoch 60/100\n",
      "38/38 [==============================] - 5s 143ms/step - loss: 0.0019\n",
      "Epoch 61/100\n",
      "38/38 [==============================] - 5s 144ms/step - loss: 0.0021\n",
      "Epoch 62/100\n",
      "38/38 [==============================] - 5s 141ms/step - loss: 0.0022\n",
      "Epoch 63/100\n",
      "38/38 [==============================] - 6s 145ms/step - loss: 0.0020\n",
      "Epoch 64/100\n",
      "38/38 [==============================] - 6s 145ms/step - loss: 0.0020\n",
      "Epoch 65/100\n",
      "38/38 [==============================] - 6s 145ms/step - loss: 0.0020\n",
      "Epoch 66/100\n",
      "38/38 [==============================] - 6s 147ms/step - loss: 0.0020\n",
      "Epoch 67/100\n",
      "38/38 [==============================] - 6s 145ms/step - loss: 0.0023\n",
      "Epoch 68/100\n",
      "38/38 [==============================] - 6s 145ms/step - loss: 0.0019\n",
      "Epoch 69/100\n",
      "38/38 [==============================] - 6s 146ms/step - loss: 0.0023\n",
      "Epoch 70/100\n",
      "38/38 [==============================] - 6s 146ms/step - loss: 0.0022\n",
      "Epoch 71/100\n",
      "38/38 [==============================] - 5s 142ms/step - loss: 0.0019\n",
      "Epoch 72/100\n",
      "38/38 [==============================] - 5s 143ms/step - loss: 0.0019\n",
      "Epoch 73/100\n",
      "38/38 [==============================] - 6s 145ms/step - loss: 0.0018\n",
      "Epoch 74/100\n",
      "38/38 [==============================] - 6s 145ms/step - loss: 0.0017\n",
      "Epoch 75/100\n",
      "38/38 [==============================] - 6s 145ms/step - loss: 0.0018\n",
      "Epoch 76/100\n",
      "38/38 [==============================] - 6s 146ms/step - loss: 0.0018\n",
      "Epoch 77/100\n",
      "38/38 [==============================] - 6s 147ms/step - loss: 0.0017\n",
      "Epoch 78/100\n",
      "38/38 [==============================] - 6s 146ms/step - loss: 0.0019\n",
      "Epoch 79/100\n",
      "38/38 [==============================] - 6s 146ms/step - loss: 0.0019\n",
      "Epoch 80/100\n",
      "38/38 [==============================] - 6s 147ms/step - loss: 0.0016\n",
      "Epoch 81/100\n",
      "38/38 [==============================] - 6s 146ms/step - loss: 0.0017\n",
      "Epoch 82/100\n",
      "38/38 [==============================] - 5s 145ms/step - loss: 0.0017\n",
      "Epoch 83/100\n",
      "14/38 [==========>...................] - ETA: 3s - loss: 0.0017"
     ]
    }
   ],
   "source": [
    "regressor.compile(optimizer=\"adam\",loss=\"mean_squared_error\")\n",
    "regressor.fit(x_train,y_train,epochs=100,batch_size=32)\n"
   ]
  },
  {
   "cell_type": "code",
   "execution_count": 49,
   "id": "8de92516-8ed2-4083-85a3-f84ef55dc97f",
   "metadata": {},
   "outputs": [],
   "source": [
    "dataset_test=pd.read_csv(\"Google_Stock_Price_Test.csv\")\n",
    "actual_stock_price=dataset_test.iloc[:,1:2].values"
   ]
  },
  {
   "cell_type": "code",
   "execution_count": 50,
   "id": "047e10e0-dec1-47b3-8c78-e38f7e6e4089",
   "metadata": {},
   "outputs": [],
   "source": [
    "dataset_total = pd.concat((dataset_train [ 'Open'], dataset_test['Open']), axis = 0) \n",
    "inputs=dataset_total[len(dataset_total)- len(dataset_test)-60:].values\n",
    "\n",
    "inputs = inputs.reshape(-1,1)\n",
    "inputs = scaler.transform (inputs)\n",
    "\n",
    "x_test = []\n",
    "for i in range(60,80):\n",
    "    x_test.append(inputs [i-60:i, 0])\n",
    "x_test = np.array(x_test)\n",
    "x_test = np.reshape(x_test, (x_test.shape[0], x_test.shape[1], 1))"
   ]
  },
  {
   "cell_type": "code",
   "execution_count": 51,
   "id": "a05b6a67-3c7f-4b4e-8a8e-e5443091331c",
   "metadata": {},
   "outputs": [
    {
     "name": "stdout",
     "output_type": "stream",
     "text": [
      "1/1 [==============================] - 1s 1s/step\n"
     ]
    }
   ],
   "source": [
    "predicted_stock_price = regressor.predict(x_test) \n",
    "predicted_stock_price = scaler.inverse_transform(predicted_stock_price)"
   ]
  },
  {
   "cell_type": "code",
   "execution_count": 52,
   "id": "042f33ec-d1d8-4762-8468-e73c488b01e8",
   "metadata": {},
   "outputs": [
    {
     "data": {
      "text/plain": [
       "<matplotlib.legend.Legend at 0x7efd766d4e80>"
      ]
     },
     "execution_count": 52,
     "metadata": {},
     "output_type": "execute_result"
    },
    {
     "data": {
      "image/png": "[encoded data removed]",
      "text/plain": [
       "<Figure size 640x480 with 1 Axes>"
      ]
     },
     "metadata": {},
     "output_type": "display_data"
    }
   ],
   "source": [
    "plt.plot(actual_stock_price, color = 'red', label = 'Actual Google Stock Price')\n",
    "plt.plot(predicted_stock_price, color = 'blue', label = 'Predicted Google Stock Price') \n",
    "plt.title('Google Stock Price Prediction')\n",
    "plt.xlabel('Time')\n",
    "plt.ylabel('Google Stock Price')\n",
    "plt.legend()"
   ]
  },
  {
   "cell_type": "code",
   "execution_count": null,
   "id": "eb827ab8-6239-4514-ad8b-c9cec7aaab0a",
   "metadata": {},
   "outputs": [],
   "source": []
  },
  {
   "cell_type": "code",
   "execution_count": null,
   "id": "26a1a64c-6f5f-47c5-bd3d-e0340529a527",
   "metadata": {},
   "outputs": [],
   "source": []
  }
 ],
 "metadata": {
  "kernelspec": {
   "display_name": "Python 3 (Intel® oneAPI 2023.0)",
   "language": "python",
   "name": "c009-intel_distribution_of_python_3_oneapi-beta05-python"
  },
  "language_info": {
   "codemirror_mode": {
    "name": "ipython",
    "version": 3
   },
   "file_extension": ".py",
   "mimetype": "text/x-python",
   "name": "python",
   "nbconvert_exporter": "python",
   "pygments_lexer": "ipython3",
   "version": "3.9.15"
  }
 },
 "nbformat": 4,
 "nbformat_minor": 5
}
